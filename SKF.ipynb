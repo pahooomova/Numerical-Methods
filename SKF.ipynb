{
 "cells": [
  {
   "cell_type": "code",
   "execution_count": 1,
   "metadata": {
    "collapsed": false
   },
   "outputs": [],
   "source": [
    "from math import cos, sin, exp, factorial\n",
    "import numpy as np\n",
    "import scipy as sc\n",
    "from scipy.integrate import quad\n",
    "\n",
    "\n",
    "a1=1.1\n",
    "b=2.5\n",
    "alfa=2/5\n",
    "betta=0\n",
    "\n",
    "\n",
    "def func(x):\n",
    "    f=0.5*cos(2*x)*exp(2*x/5)+2.4*sin(1.5*x)*exp(-6*x)+6*x\n",
    "    return(f)\n",
    "\n",
    "p = lambda x, j: (x-a1)**(-alfa) * (b-x)**(-betta)*x**j\n",
    "\n",
    "\n",
    "def newtonCotes(a, b):\n",
    "\n",
    "    knots=np.array([a, (a+b)/2, b])\n",
    "    mu=[]\n",
    "    for i in range(3):\n",
    "        mu.append(sc.integrate.quad(p, a, b, args = (i)))\n",
    "    mu=np.array(mu)\n",
    "    mu= np.array(mu[:, 0])\n",
    "    \n",
    "    X=np.zeros((3, 3))\n",
    "    for i in range(3):\n",
    "        for j in range(3):\n",
    "            X[i, j]=knots[j]**i\n",
    "        \n",
    "    A=np.linalg.solve(X, mu)\n",
    "\n",
    "    integral=0\n",
    "    for i in range(3):\n",
    "        integral+=func(knots[i])*A[i]\n",
    "    return(integral)"
   ]
  },
  {
   "cell_type": "code",
   "execution_count": 5,
   "metadata": {
    "collapsed": false
   },
   "outputs": [
    {
     "data": {
      "text/plain": [
       "18.602947136362385"
      ]
     },
     "execution_count": 5,
     "metadata": {},
     "output_type": "execute_result"
    }
   ],
   "source": [
    "#построенние скф\n",
    "def intervals(n):\n",
    "    x_k=np.zeros(n)\n",
    "    x_k[0]=a1\n",
    "    x_k[n-1]=b\n",
    "    for i in range(1, n-1):\n",
    "        x_k[i]=x_k[i-1]+(b-a1)/(n-1)\n",
    "    return(x_k)\n",
    "n=25\n",
    "intervals=intervals(n)\n",
    "skf=0\n",
    "for i in range(n-1):\n",
    "    skf+=newtonCotes(intervals[i], intervals[i+1])\n",
    "skf"
   ]
  },
  {
   "cell_type": "code",
   "execution_count": null,
   "metadata": {
    "collapsed": true
   },
   "outputs": [],
   "source": []
  }
 ],
 "metadata": {
  "anaconda-cloud": {},
  "kernelspec": {
   "display_name": "Python [default]",
   "language": "python",
   "name": "python3"
  },
  "language_info": {
   "codemirror_mode": {
    "name": "ipython",
    "version": 3
   },
   "file_extension": ".py",
   "mimetype": "text/x-python",
   "name": "python",
   "nbconvert_exporter": "python",
   "pygments_lexer": "ipython3",
   "version": "3.5.2"
  }
 },
 "nbformat": 4,
 "nbformat_minor": 1
}
