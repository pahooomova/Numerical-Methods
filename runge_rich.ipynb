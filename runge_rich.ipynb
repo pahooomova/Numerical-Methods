{
 "cells": [
  {
   "cell_type": "markdown",
   "metadata": {},
   "source": [
    "# Правило Рунге\n"
   ]
  },
  {
   "cell_type": "code",
   "execution_count": 1,
   "metadata": {},
   "outputs": [],
   "source": [
    "from math import cos, sin, exp, factorial\n",
    "import numpy as np\n",
    "import sympy as sp\n",
    "import scipy as sc\n",
    "from scipy.integrate import quad\n",
    "\n",
    "a1=0.7\n",
    "b=3.2\n",
    "alfa=0\n",
    "betta=1/4\n",
    "knots=np.array([a1, (a1+b)/2, b])\n",
    "F=lambda x:(1.3*cos(3.5*x)*exp(2*x/3) + 6*sin(4.5*x)*exp(-x/8) + 5*x)*((x-a1)**(alfa) * (b-x)**(betta))\n",
    "func= lambda x: 1.3*cos(3.5*x)*exp(2*x/3) + 6*sin(4.5*x)*exp(-x/8) + 5*x\n",
    "\n",
    "p = lambda x, j: (x-a1)**(alfa) * (b-x)**(betta)*x**j"
   ]
  },
  {
   "cell_type": "code",
   "execution_count": 2,
   "metadata": {},
   "outputs": [],
   "source": [
    "def newtonCotes(a, b, n=3):\n",
    "    knots=np.linspace(a, b, n)\n",
    "    mu=[]\n",
    "    for i in range(np.size(knots)):\n",
    "        mu.append(sc.integrate.quad(p, a, b, args = (i)))\n",
    "    mu=np.array(mu)\n",
    "    mu= np.array(mu[:, 0])\n",
    "    \n",
    "    X=np.zeros((np.size(knots), np.size(knots)))\n",
    "    for i in range(np.size(knots)):\n",
    "        for j in range(np.size(knots)):\n",
    "            X[i, j]=knots[j]**i\n",
    "        \n",
    "    A=np.linalg.solve(X, mu)\n",
    "\n",
    "    integral=0\n",
    "    for i in range(np.size(knots)):\n",
    "        integral+=func(knots[i])*A[i]\n",
    "    return(integral)"
   ]
  },
  {
   "cell_type": "code",
   "execution_count": 3,
   "metadata": {},
   "outputs": [],
   "source": [
    "def skf(a, b, knots):\n",
    "    skf=0\n",
    "    for i in range(np.size(knots)-1):\n",
    "        skf+=newtonCotes(knots[i], knots[i+1])\n",
    "    print(skf)\n",
    "    return(skf)"
   ]
  },
  {
   "cell_type": "code",
   "execution_count": 8,
   "metadata": {},
   "outputs": [
    {
     "name": "stdout",
     "output_type": "stream",
     "text": [
      "18.744089947407833\n",
      "18.744090395855945\n",
      "5.979308165630451e-07 1.4948270414076129e-07\n"
     ]
    }
   ],
   "source": [
    "n=54\n",
    "m=2\n",
    "L=2\n",
    "knots1=np.linspace(a1, b, n)\n",
    "knots2=np.linspace(a1, b, n*L)\n",
    "\n",
    "S1=skf(a1,b, knots1)\n",
    "S2=skf(a1, b, knots2)\n",
    "\n",
    "#приближенные представления погрешностей СКФ\n",
    "R1=(S2-S1)/(1-L**(-m))\n",
    "R2=(S2-S1)/(L**m-1)\n",
    "\n",
    "print(R1, R2)"
   ]
  },
  {
   "cell_type": "code",
   "execution_count": 5,
   "metadata": {},
   "outputs": [
    {
     "name": "stdout",
     "output_type": "stream",
     "text": [
      "0.0598715884260519 41\n"
     ]
    }
   ],
   "source": [
    "# оптимальные h с требуемой точностью\n",
    "eps=10**(-6)\n",
    "h_opt=(b-a1)/n*((eps/abs(R1)))**(1/m)\n",
    "n_opt=int((b-a1)//h_opt)\n",
    "print(h_opt,n_opt)"
   ]
  },
  {
   "cell_type": "markdown",
   "metadata": {},
   "source": [
    "## Ричардсона"
   ]
  },
  {
   "cell_type": "code",
   "execution_count": 6,
   "metadata": {},
   "outputs": [
    {
     "name": "stdout",
     "output_type": "stream",
     "text": [
      "18.744089947407833\n",
      "18.744090395855945\n",
      "18.744090417654693\n",
      "18.74409041872662\n",
      "[ 54. 108. 216. 432.] [-18.74408995 -18.7440904  -18.74409042 -18.74409042]\n",
      "[[-1.00000000e+00  1.33959191e-05  3.10090719e-08  7.17802591e-11]\n",
      " [-1.00000000e+00  8.57338820e-04  1.58766448e-05  2.94011941e-07]\n",
      " [-1.00000000e+00  2.14334705e-04  1.98458060e-06  1.83757463e-08]\n",
      " [-1.00000000e+00  5.35836763e-05  2.48072575e-07  1.14848414e-09]]\n",
      "18.744089652623884\n"
     ]
    },
    {
     "name": "stderr",
     "output_type": "stream",
     "text": [
      "/Library/Frameworks/Python.framework/Versions/3.7/lib/python3.7/site-packages/ipykernel_launcher.py:4: DeprecationWarning: object of type <class 'numpy.float64'> cannot be safely interpreted as an integer.\n",
      "  after removing the cwd from sys.path.\n",
      "/Library/Frameworks/Python.framework/Versions/3.7/lib/python3.7/site-packages/ipykernel_launcher.py:8: DeprecationWarning: object of type <class 'numpy.float64'> cannot be safely interpreted as an integer.\n",
      "  \n"
     ]
    },
    {
     "data": {
      "text/plain": [
       "7.661027396804481e-07"
      ]
     },
     "execution_count": 6,
     "metadata": {},
     "output_type": "execute_result"
    }
   ],
   "source": [
    "h=np.zeros(4)\n",
    "S=np.zeros(4)\n",
    "h[0]=n\n",
    "S[0]=-skf(a1, b, np.linspace(a1, b, h[0]))\n",
    "\n",
    "for i in range(1,4):\n",
    "    h[i]=h[i-1]*L\n",
    "    S[i]=-skf(a1, b, np.linspace(a1, b, h[i]))\n",
    "print(h, S) \n",
    "\n",
    "H=np.zeros((4, 4))\n",
    "for i in range(4):\n",
    "    H[:,i ]=-1\n",
    "for i in range(0, 4):\n",
    "    for j in range(1, 4):\n",
    "        H[i, j]=(b-a1)/h[i-1]**(j+1)\n",
    "C=np.linalg.solve(H, S)\n",
    "print(H)\n",
    "R1=0\n",
    "for i in range(1, np.size(C)):\n",
    "    R1+=C[i]*H[3, i]\n",
    "print(C[0])\n",
    "abs(R1)"
   ]
  },
  {
   "cell_type": "code",
   "execution_count": null,
   "metadata": {},
   "outputs": [],
   "source": []
  }
 ],
 "metadata": {
  "anaconda-cloud": {},
  "kernelspec": {
   "display_name": "Python 3",
   "language": "python",
   "name": "python3"
  },
  "language_info": {
   "codemirror_mode": {
    "name": "ipython",
    "version": 3
   },
   "file_extension": ".py",
   "mimetype": "text/x-python",
   "name": "python",
   "nbconvert_exporter": "python",
   "pygments_lexer": "ipython3",
   "version": "3.7.3"
  }
 },
 "nbformat": 4,
 "nbformat_minor": 1
}
